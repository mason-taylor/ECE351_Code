{
 "cells": [
  {
   "cell_type": "markdown",
   "metadata": {},
   "source": [
    "Comments in python are simply proceeded by a pound sign for single lines, or a 3 double quotes for a block comment"
   ]
  },
  {
   "cell_type": "code",
   "execution_count": 16,
   "metadata": {},
   "outputs": [
    {
     "data": {
      "text/plain": [
       "' This is a block comment. \\n    This is also a multiline string,\\n    but will not be interpreted by \\n    python if left on its own (i.e.\\n    not assigned to a variable).    '"
      ]
     },
     "execution_count": 16,
     "metadata": {},
     "output_type": "execute_result"
    }
   ],
   "source": [
    "#Comments use a pound sign (#)\n",
    "\"\"\" This is a block comment. \n",
    "    This is also a multiline string,\n",
    "    but will not be interpreted by \n",
    "    python if left on its own (i.e.\n",
    "    not assigned to a variable).    \"\"\""
   ]
  },
  {
   "cell_type": "markdown",
   "metadata": {},
   "source": [
    "Exponents are simply ** instead of the common ^ operator."
   ]
  },
  {
   "cell_type": "code",
   "execution_count": 17,
   "metadata": {},
   "outputs": [
    {
     "name": "stdout",
     "output_type": "stream",
     "text": [
      "9\n"
     ]
    }
   ],
   "source": [
    "#Exponents use ** instead of ^\n",
    "print(3**2)"
   ]
  },
  {
   "cell_type": "markdown",
   "metadata": {},
   "source": [
    "Declaring variables is as simple as assigning a value to the name. Whether the variable is defined already or not, the name will receive the value. There is no data typing in python, so all variables are universal and their type can change by reassigning them. To see the runtime value of a variable, you can simple print() the variable. A print statement takes a list of expressions, seperated by a comma, and concatenates them at runtime."
   ]
  },
  {
   "cell_type": "code",
   "execution_count": 18,
   "metadata": {},
   "outputs": [
    {
     "name": "stdout",
     "output_type": "stream",
     "text": [
      "1\n",
      "t = 1\n",
      "t = 1 seconds\n",
      "t is now = 0.3333333333333333 \n",
      "...and can be rounded using `round()` 0.3333\n"
     ]
    }
   ],
   "source": [
    "t = 1\n",
    "print(t)\n",
    "print(\"t =\",t)\n",
    "print('t =',t,\"seconds\")\n",
    "print('t is now =',t/3,'\\n...and can be rounded using `round()`',round(t/3,4))"
   ]
  },
  {
   "cell_type": "markdown",
   "metadata": {},
   "source": [
    "Import statements are used to include libraries for performing a great variety of functions.\n",
    "Lists "
   ]
  },
  {
   "cell_type": "code",
   "execution_count": 19,
   "metadata": {},
   "outputs": [],
   "source": [
    "import numpy"
   ]
  },
  {
   "cell_type": "markdown",
   "metadata": {},
   "source": [
    "Lists in python are equivalent to arrays in other languages. Except in python, individual elements can be of any data type and are not stuck being the same as all others. Numpy also proveds a wrapper to lists called the numpy.array. This will be useful due to extra functions for manipulating the elements."
   ]
  },
  {
   "cell_type": "code",
   "execution_count": 20,
   "metadata": {},
   "outputs": [
    {
     "name": "stdout",
     "output_type": "stream",
     "text": [
      "list1:  [0, 1, 2, 3]\n",
      "list2: [[0], [1], [2], [3]]\n",
      "list3:\n",
      "array1: [0 1 2 3]\n",
      "array2: [[0]\n",
      " [1]\n",
      " [2]\n",
      " [3]]\n",
      "array3: [[0 1]\n",
      " [2 3]]\n"
     ]
    }
   ],
   "source": [
    "list1 = [0,1,2,3]\n",
    "print('list1: ', list1)\n",
    "list2=[[0], [1],[2],[3]]\n",
    "print('list2:',list2)\n",
    "list3=[[0,1],[2,3]]\n",
    "print('list3:')\n",
    "array1 = numpy.array([0,1,2,3])\n",
    "print('array1:', array1)\n",
    "array2 = numpy.array([[0],[1],[2],[3]])\n",
    "print('array2:', array2)\n",
    "array3 = numpy.array([[0,1],[2,3]])\n",
    "print('array3:', array3)"
   ]
  },
  {
   "cell_type": "code",
   "execution_count": 21,
   "metadata": {},
   "outputs": [
    {
     "name": "stdout",
     "output_type": "stream",
     "text": [
      "3.141592653589793\n"
     ]
    }
   ],
   "source": [
    "print(numpy.pi)"
   ]
  },
  {
   "cell_type": "code",
   "execution_count": 22,
   "metadata": {},
   "outputs": [
    {
     "name": "stdout",
     "output_type": "stream",
     "text": [
      "[0 1 2 3] \n",
      " [0.  0.5 1.  1.5] \n",
      " [0.  0.5 1.  1.5]\n"
     ]
    }
   ],
   "source": [
    "#You can alias any imported library to make it easier to reference later\n",
    "import numpy as np\n",
    "print(np.arange(4), '\\n',\n",
    "      np.arange(0,2,0.5), '\\n',\n",
    "      np.linspace(0,1.5,4))"
   ]
  },
  {
   "cell_type": "markdown",
   "metadata": {},
   "source": [
    "Indexing lists and numpy arrays is fairly simple. As with many languages, the simply place the element number in brackets after the list name to access a specific element. For multidimensional lists, you can use comma seperated indeces for each dimension or use extra layers of brackets, both function the same."
   ]
  },
  {
   "cell_type": "code",
   "execution_count": 23,
   "metadata": {},
   "outputs": [
    {
     "name": "stdout",
     "output_type": "stream",
     "text": [
      "list1:  1 5\n",
      "array1:  1 5\n",
      "array2: 3 10\n",
      "list2: [1 2 3 4 5] [ 6  7  8  9 10]\n"
     ]
    }
   ],
   "source": [
    "list1 = [1,2,3,4,5]\n",
    "array1 = np.array(list1)\n",
    "print('list1: ', list1[0], list1[4])\n",
    "print('array1: ', array1[0],array1[4])\n",
    "\n",
    "array2 = np.array([[1,2,3,4,5], [6,7,8,9,10]])\n",
    "list2 = list(array2)\n",
    "print('array2:',array2[0,2],array2[1][4])\n",
    "print('list2:', list2[0], list2[1])\n"
   ]
  },
  {
   "cell_type": "markdown",
   "metadata": {},
   "source": [
    "Arrays can also be accessed using ranges, which return a subset of the array. In this case, you can access an entire row or column of an array using the colon operator."
   ]
  },
  {
   "cell_type": "code",
   "execution_count": 24,
   "metadata": {},
   "outputs": [
    {
     "name": "stdout",
     "output_type": "stream",
     "text": [
      "[3 8] [1 2 3 4 5]\n"
     ]
    }
   ],
   "source": [
    "print(array2[:,2],\n",
    "array2[0,:])"
   ]
  },
  {
   "cell_type": "markdown",
   "metadata": {},
   "source": [
    "Numpy contains useful functions for quickly initializing matrices with 0s or 1s."
   ]
  },
  {
   "cell_type": "code",
   "execution_count": 25,
   "metadata": {},
   "outputs": [
    {
     "name": "stdout",
     "output_type": "stream",
     "text": [
      "1x3: [0. 0. 0.]\n",
      "2x2: [[0. 0.]\n",
      " [0. 0.]]\n",
      "2x3: [[1. 1. 1.]\n",
      " [1. 1. 1.]]\n"
     ]
    }
   ],
   "source": [
    "print('1x3:',np.zeros(3))\n",
    "print('2x2:',np.zeros((2,2)))\n",
    "print('2x3:',np.ones((2,3)))"
   ]
  },
  {
   "cell_type": "markdown",
   "metadata": {},
   "source": [
    "Using numpy and matplotlib, one can utilize python to create fully featured plots just as you would in matlab."
   ]
  },
  {
   "cell_type": "code",
   "execution_count": 26,
   "metadata": {},
   "outputs": [
    {
     "data": {
      "image/png": "[encoded data removed]",
      "text/plain": [
       "<Figure size 864x576 with 3 Axes>"
      ]
     },
     "metadata": {
      "needs_background": "light"
     },
     "output_type": "display_data"
    }
   ],
   "source": [
    "import matplotlib.pyplot as plt\n",
    "# Define variables\n",
    "steps = 0.1 # step size\n",
    "x = np.arange(-2,2+steps,steps) # notice the final value is\n",
    "# `2+steps` to include `2`\n",
    "y1 = x + 2\n",
    "y2 = x**2\n",
    "# Code for plots\n",
    "plt.figure(figsize=(12,8)) # start a new figure, with\n",
    "# a custom figure size\n",
    "6\n",
    "plt.subplot(3,1,1) # subplot 1\n",
    "plt.plot(x,y1)\n",
    "plt.title('Sample Plots for Lab 1') # title for entire figure\n",
    "# (all three subplots)\n",
    "plt.ylabel('Subplot 1') # label for subplot 1\n",
    "plt.grid(True)\n",
    "plt.subplot(3,1,2) # subplot 2\n",
    "plt.plot(x,y2)\n",
    "plt.ylabel('Subplot 2') # label for subplot 2\n",
    "plt.grid(which='both') # use major and minor grids\n",
    "# (minor grids not available\n",
    "# since plot is small)\n",
    "plt.subplot(3,1,3) # subplot 3\n",
    "plt.plot(x,y1,'--r',label='y1')\n",
    "plt.plot(x,y2,'o',label='y2')\n",
    "plt.axis([-2.5, 2.5, -0.5, 4.5])\n",
    "plt.grid(True)\n",
    "plt.legend(loc='lower right')\n",
    "plt.xlabel('x') # x-axis label for all\n",
    "# three subplots (entire figure)\n",
    "plt.ylabel('Subplot 3') # label for subplot 3\n",
    "plt.show() ### --- This MUST be included to view your plots! --- ###"
   ]
  },
  {
   "cell_type": "markdown",
   "metadata": {},
   "source": [
    "Numpy can work with complex numbers as well. Simply including a 1j (or in general nj where n is any number) will create an imaginary number."
   ]
  },
  {
   "cell_type": "code",
   "execution_count": 27,
   "metadata": {
    "scrolled": true
   },
   "outputs": [
    {
     "name": "stdout",
     "output_type": "stream",
     "text": [
      "(2+3j)\n",
      "Real:  2.0\n",
      "Complex:  3.0\n",
      "Magnitude:  3.605551275463989\n",
      "Angle:  0.982793723247329\n",
      "(2+2.9999999999999996j)\n",
      "(2+2.9999999999999996j)\n"
     ]
    }
   ],
   "source": [
    "import numpy as np\n",
    "cRect = 2 + 3j\n",
    "print(cRect)\n",
    "\n",
    "#Return the real part\n",
    "print('Real: ',np.real(cRect))\n",
    "#Return the imaginary part\n",
    "print('Complex: ',np.imag(cRect))\n",
    "#Returns the magnitude\n",
    "print('Magnitude: ',abs(cRect))\n",
    "#REturns the angle of number in radians\n",
    "print('Angle: ',np.angle(cRect))\n",
    "\n",
    "\n",
    "cPol = abs(cRect) * np.exp(1j*np.angle(cRect))\n",
    "print(cPol) # notice Python will store this in rectangular form\n",
    "cRect2 = np.real(cPol) + 1j*np.imag(cPol)\n",
    "print(cRect2) # converting from polar to rectangular"
   ]
  },
  {
   "cell_type": "markdown",
   "metadata": {},
   "source": [
    "It may be necessary to explicitly force a number to be converted to a complex number before performing an operation that results in a complex number. This ensures python (or the relevant library) will return the result as a complex number."
   ]
  },
  {
   "cell_type": "code",
   "execution_count": 28,
   "metadata": {},
   "outputs": [
    {
     "name": "stdout",
     "output_type": "stream",
     "text": [
      "nan\n",
      "3.1622776601683795j\n"
     ]
    },
    {
     "name": "stderr",
     "output_type": "stream",
     "text": [
      "C:\\Python\\lib\\site-packages\\ipykernel_launcher.py:1: RuntimeWarning: invalid value encountered in sqrt\n",
      "  \"\"\"Entry point for launching an IPython kernel.\n"
     ]
    }
   ],
   "source": [
    "print(numpy.sqrt(3*5 - 5*5))\n",
    "print(numpy.sqrt(3*5 - 5*5 + 0j))"
   ]
  }
 ],
 "metadata": {
  "kernelspec": {
   "display_name": "Python 3",
   "language": "python",
   "name": "python3"
  },
  "language_info": {
   "codemirror_mode": {
    "name": "ipython",
    "version": 3
   },
   "file_extension": ".py",
   "mimetype": "text/x-python",
   "name": "python",
   "nbconvert_exporter": "python",
   "pygments_lexer": "ipython3",
   "version": "3.7.3"
  }
 },
 "nbformat": 4,
 "nbformat_minor": 2
}
